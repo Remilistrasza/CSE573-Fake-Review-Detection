{
  "nbformat": 4,
  "nbformat_minor": 0,
  "metadata": {
    "colab": {
      "name": "fasttext_embedding.ipynb",
      "provenance": []
    },
    "kernelspec": {
      "name": "python3",
      "display_name": "Python 3"
    },
    "language_info": {
      "name": "python"
    }
  },
  "cells": [
    {
      "cell_type": "code",
      "execution_count": null,
      "metadata": {
        "colab": {
          "base_uri": "https://localhost:8080/"
        },
        "id": "JOthmXFLz801",
        "outputId": "89c2636b-1966-4427-e9e9-2776807d6e6b"
      },
      "outputs": [
        {
          "output_type": "stream",
          "name": "stdout",
          "text": [
            "Collecting fasttext\n",
            "  Downloading fasttext-0.9.2.tar.gz (68 kB)\n",
            "\u001b[?25l\r\u001b[K     |████▊                           | 10 kB 24.1 MB/s eta 0:00:01\r\u001b[K     |█████████▌                      | 20 kB 20.0 MB/s eta 0:00:01\r\u001b[K     |██████████████▎                 | 30 kB 12.1 MB/s eta 0:00:01\r\u001b[K     |███████████████████             | 40 kB 4.6 MB/s eta 0:00:01\r\u001b[K     |███████████████████████▉        | 51 kB 4.6 MB/s eta 0:00:01\r\u001b[K     |████████████████████████████▋   | 61 kB 5.4 MB/s eta 0:00:01\r\u001b[K     |████████████████████████████████| 68 kB 3.4 MB/s \n",
            "\u001b[?25hCollecting pybind11>=2.2\n",
            "  Using cached pybind11-2.9.2-py2.py3-none-any.whl (213 kB)\n",
            "Requirement already satisfied: setuptools>=0.7.0 in /usr/local/lib/python3.7/dist-packages (from fasttext) (57.4.0)\n",
            "Requirement already satisfied: numpy in /usr/local/lib/python3.7/dist-packages (from fasttext) (1.21.6)\n",
            "Building wheels for collected packages: fasttext\n",
            "  Building wheel for fasttext (setup.py) ... \u001b[?25l\u001b[?25hdone\n",
            "  Created wheel for fasttext: filename=fasttext-0.9.2-cp37-cp37m-linux_x86_64.whl size=3145104 sha256=a53aec73eb72f9c66e2f2684b80d0a0703a70dfa4fcce6f36c850b6285586c23\n",
            "  Stored in directory: /root/.cache/pip/wheels/4e/ca/bf/b020d2be95f7641801a6597a29c8f4f19e38f9c02a345bab9b\n",
            "Successfully built fasttext\n",
            "Installing collected packages: pybind11, fasttext\n",
            "Successfully installed fasttext-0.9.2 pybind11-2.9.2\n"
          ]
        }
      ],
      "source": [
        "!pip install fasttext"
      ]
    },
    {
      "cell_type": "code",
      "source": [
        "import pandas as pd\n",
        "import numpy as np\n",
        "import os\n",
        "import unicodedata\n",
        "import torch\n",
        "import json\n",
        "import random\n",
        "import fasttext\n",
        "import pandas as pd\n",
        "from sklearn.model_selection import train_test_split\n",
        "from sklearn.feature_extraction.text import TfidfVectorizer\n",
        "from sklearn.linear_model import LogisticRegression\n",
        "from sklearn.metrics import accuracy_score,f1_score,recall_score,precision_score\n",
        "import unicodedata"
      ],
      "metadata": {
        "id": "GFNEjW9R0OLG"
      },
      "execution_count": null,
      "outputs": []
    },
    {
      "cell_type": "code",
      "source": [
        "YelpZip_file_path = '/content/drive/MyDrive/Course/CSE 573/CSE 573: Fake Reviews Project/YelpZip'"
      ],
      "metadata": {
        "id": "ynCRQT-j0QST"
      },
      "execution_count": null,
      "outputs": []
    },
    {
      "cell_type": "code",
      "source": [
        "from google.colab import drive\n",
        "drive.mount('/content/drive')"
      ],
      "metadata": {
        "colab": {
          "base_uri": "https://localhost:8080/"
        },
        "id": "5bHwfZmyMkX1",
        "outputId": "56d50a88-d3e7-4dc8-f6a0-b012241684ec"
      },
      "execution_count": null,
      "outputs": [
        {
          "output_type": "stream",
          "name": "stdout",
          "text": [
            "Drive already mounted at /content/drive; to attempt to forcibly remount, call drive.mount(\"/content/drive\", force_remount=True).\n"
          ]
        }
      ]
    },
    {
      "cell_type": "code",
      "source": [
        "metadata = pd.read_csv(os.path.join(YelpZip_file_path, 'metadata'), sep= '\\t',\n",
        "                      names=['user_id', 'prod_id','rating','label', 'date'], header=None)\n",
        "\n",
        "with open(os.path.join(YelpZip_file_path, 'reviewContent')) as r:\n",
        "  content = r.readlines()"
      ],
      "metadata": {
        "id": "MDWqiChU0Uah"
      },
      "execution_count": null,
      "outputs": []
    },
    {
      "cell_type": "markdown",
      "source": [
        "### return: \n",
        "  list: dataset \\\\\n",
        "  shape: (num_of_sample, 300) \\\\\n",
        "\n",
        "  list: label  \\\\\n",
        "\n",
        "  shaple (num_of_sample, 1) (with 0 and 1) \\\\"
      ],
      "metadata": {
        "id": "c0FRwNPWA76R"
      }
    },
    {
      "cell_type": "code",
      "source": [
        "\n",
        "number_of_samples = 50000\n",
        "\n",
        "pretrained_model = fasttext.load_model('/content/drive/MyDrive/Course/CSE 573/CSE 573: Fake Reviews Project/cc.en.300.bin')\n",
        "\n",
        "\n",
        "\n",
        "self_trained_model = fasttext.load_model('/content/drive/MyDrive/Course/CSE 573/CSE 573: Fake Reviews Project/trained_YelpZip_model.bin')\n",
        "\n",
        "def fasttext_emb(content, metadata,ft_model):\n",
        "  dataset = []\n",
        "  label = []\n",
        "  for text, lab in zip(content[:number_of_samples], metadata[:number_of_samples].itertuples(index=True, name='Pandas')):\n",
        "    sentence = text.strip('\\n').split('\\t')[-1]\n",
        "\n",
        "    sentence = unicodedata.normalize(\"NFKD\", sentence)\n",
        "    \n",
        "    sentence_vector = ft_model.get_sentence_vector(sentence)\n",
        "    dataset.append(sentence_vector)\n",
        "\n",
        "    if lab.label == -1:\n",
        "      l = 0\n",
        "    else: \n",
        "      l = 1\n",
        "    label.append(l)\n",
        "  \n",
        "  return dataset, label"
      ],
      "metadata": {
        "colab": {
          "base_uri": "https://localhost:8080/"
        },
        "id": "m8rukRieBgxe",
        "outputId": "c6c2df0f-2da6-4225-d540-e7b81315e1a7"
      },
      "execution_count": null,
      "outputs": [
        {
          "output_type": "stream",
          "name": "stderr",
          "text": [
            "Warning : `load_model` does not return WordVectorModel or SupervisedModel any more, but a `FastText` object which is very similar.\n",
            "Warning : `load_model` does not return WordVectorModel or SupervisedModel any more, but a `FastText` object which is very similar.\n"
          ]
        }
      ]
    },
    {
      "cell_type": "code",
      "source": [
        "dataset,label = fasttext_emb(content, metadata,self_trained_model)\n",
        "x_train, x_test, y_train, y_test = train_test_split(dataset, label, random_state=42,train_size=0.8) #train 80% test 20%\n"
      ],
      "metadata": {
        "id": "-j8fq5ZhFEnB"
      },
      "execution_count": null,
      "outputs": []
    },
    {
      "cell_type": "code",
      "source": [
        "len(x_train),len(x_test)"
      ],
      "metadata": {
        "colab": {
          "base_uri": "https://localhost:8080/"
        },
        "id": "arjWDzFtF38b",
        "outputId": "f4e47e33-202d-4a97-b7be-6ff5c53bb7fc"
      },
      "execution_count": null,
      "outputs": [
        {
          "output_type": "execute_result",
          "data": {
            "text/plain": [
              "(40000, 10000)"
            ]
          },
          "metadata": {},
          "execution_count": 19
        }
      ]
    },
    {
      "cell_type": "code",
      "source": [
        "logit = LogisticRegression(max_iter=10000)\n",
        "logit.fit(x_train, y_train)\n",
        "y_pred = logit.predict(x_test)\n"
      ],
      "metadata": {
        "id": "Z1hjNYg1FJdQ"
      },
      "execution_count": null,
      "outputs": []
    },
    {
      "cell_type": "code",
      "source": [
        "print(\"accuracy_score: \", accuracy_score(y_test,y_pred))\n",
        "print(\"precision_score: \", precision_score(y_test,y_pred, pos_label=1))\n",
        "print(\"recall_score: \", recall_score(y_test,y_pred, pos_label=1))\n",
        "print(\"f1_score: \", f1_score(y_test,y_pred, pos_label=1))"
      ],
      "metadata": {
        "colab": {
          "base_uri": "https://localhost:8080/"
        },
        "id": "3J9FPz93FOAO",
        "outputId": "0e9d14c1-dd93-485b-d74d-00d6acbfab39"
      },
      "execution_count": null,
      "outputs": [
        {
          "output_type": "stream",
          "name": "stdout",
          "text": [
            "accuracy_score:  0.8634\n",
            "precision_score:  0.8652860158841862\n",
            "recall_score:  0.996988300706591\n",
            "f1_score:  0.9264800861141012\n"
          ]
        }
      ]
    }
  ]
}